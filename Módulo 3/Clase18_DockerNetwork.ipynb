{
 "cells": [
  {
   "cell_type": "markdown",
   "metadata": {},
   "source": [
    "## Repaso clase anterior\n",
    "- Streamlit como front-end\n",
    "- Llamando la API del modelo desde el frontend\n",
    "- Creando la imagen y ejecutando el contenedor de `Docker`. (Cuáles son los comandos para esto?)\n",
    "- Corregir error de la clase anterior"
   ]
  },
  {
   "cell_type": "markdown",
   "metadata": {
    "collapsed": false,
    "jupyter": {
     "outputs_hidden": false
    },
    "pycharm": {
     "name": "#%% md\n"
    }
   },
   "source": [
    "# Network en Docker\n",
    "\n",
    "## Crear una red en Docker:\n",
    "```\n",
    "docker network create my-network\n",
    "```\n",
    "\n",
    "## Correr contenedores en la misma red:\n",
    "```\n",
    "docker run --network my-network -p 8000:8000 --name container-1 your-backend-image\n",
    "\n",
    "docker run --network my-network -p 8501:8501 --name container-1 your-frontend-image\n",
    "```\n",
    "\n",
    "Desde el frontend, llamar directamente al nombre del contenedor como parte de la url. es decir:\n",
    "\n",
    "```\n",
    "http://container-1:8000/api/v0/classify\n",
    "```\n"
   ]
  },
  {
   "cell_type": "markdown",
   "metadata": {
    "collapsed": false,
    "jupyter": {
     "outputs_hidden": false
    }
   },
   "source": [
    "## Proyecto final\n",
    "1. Recuerde que se divide en dos partes:\n",
    "    - Informe escrito y código\n",
    "    - Presentación\n",
    "2. Habrá entregas parciales, las cuales son un prerrequisito para el proyecto final.\n",
    "    - La calificación de dichas entregas entran en el apartado de tares y trabajo en clase.\n",
    "    - Primera entrega:\n",
    "        + Introducción\n",
    "        + Antecedentes\n",
    "        + Objetivos\n",
    "        + Planteamiento del problema\n",
    "        + EDA\n",
    "        + Data Wrangling\n",
    "        + Dataset final a trabajar\n",
    "3. **Trabajo en clase (del proyecto) hoy Lunes 9 de Octubre de 2023.**\n",
    "4. Fecha de entrega: Lunes 16 de Octubre de 2023 a las 19:55"
   ]
  }
 ],
 "metadata": {
  "kernelspec": {
   "display_name": "Python 3 (ipykernel)",
   "language": "python",
   "name": "python3"
  },
  "language_info": {
   "codemirror_mode": {
    "name": "ipython",
    "version": 3
   },
   "file_extension": ".py",
   "mimetype": "text/x-python",
   "name": "python",
   "nbconvert_exporter": "python",
   "pygments_lexer": "ipython3",
   "version": "3.11.5"
  }
 },
 "nbformat": 4,
 "nbformat_minor": 4
}
