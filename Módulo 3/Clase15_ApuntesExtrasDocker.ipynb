{
 "cells": [
  {
   "cell_type": "markdown",
   "metadata": {
    "collapsed": false,
    "jupyter": {
     "outputs_hidden": false
    },
    "pycharm": {
     "name": "#%% md\n"
    }
   },
   "source": []
  },
  {
   "cell_type": "markdown",
   "metadata": {
    "collapsed": false,
    "jupyter": {
     "outputs_hidden": false
    },
    "pycharm": {
     "name": "#%% md\n"
    }
   },
   "source": [
    "# Repaso sobre... Docker\n",
    "1. Qué es `Docker`?\n",
    "2. Qué es el `Dockerfile`?\n",
    "3. Qué es una **imagen** de `Docker`?\n",
    "4. Qué es un **contenedor** de `Docker`?\n",
    "____\n",
    "\n",
    "![](https://craft-code.com/wp-content/uploads/2021/08/docker_facebook_share.png)\n",
    "## 1. Qué es Docker?\n",
    "Es una herramienta para crear y desplegar ambientes aislados y correr aplicaciones con sus respectivas dependencias.\n",
    "\n",
    "## 2. Qué es el `Dockerfile`?\n",
    "Un archivo de texto que contiene una lista de comandos/instrucciones que se usan para crear la **imagen de Docker**.\n",
    "\n",
    "## 3. Qué es una imagen de `Docker`?\n",
    "Un plan para crear contenedores. Las imágenes son inmutables y todos los contenedores creados a partir de la misma imagen son exactamente iguales.\n",
    "\n",
    "## 4. Qué es un **contenedor** de `Docker`?\n",
    "Una instancia de la aplicación que esta ejecutándose.\n"
   ]
  },
  {
   "cell_type": "markdown",
   "metadata": {
    "collapsed": false,
    "jupyter": {
     "outputs_hidden": false
    },
    "pycharm": {
     "name": "#%% md\n"
    }
   },
   "source": [
    "## Conceptos adicionales sobre `Docker`\n",
    "\n",
    "### 1. Variantes de las imágenes\n",
    "- **Standard**\n",
    "```\n",
    "FROM python:<version>\n",
    "```\n",
    "\n",
    "- **Slim**\n",
    "Contiene lo mínimo necesario para correr `python`. Esta variante es adecuada cuando no requiere dependencias externas y trabaja bien con solo Python.\n",
    "```\n",
    "FROM python:<version>-slim\n",
    "```\n",
    "\n",
    "- **Alpine**\n",
    "Basada en [Alpine Linux Project](https://alpinelinux.org/). Es adecuada cuando nos importa el tamaño de la imagen. La imagen base pesa 5MB.\n",
    "```\n",
    "FROM python:<version>-alpine\n",
    "```\n",
    "**Warning** Puede tener problemas con matplotlib debido a no usa la librería `glibc`.\n",
    "\n",
    "- **windowsservercore**\n",
    "Basada en Windows Server\n",
    "```\n",
    "FROM python:<version>-windowsservercore\n",
    "```\n",
    "\n",
    "### 2. Directorio de trabajo\n",
    "Suponga que se tiene la siguiente estructura:\n",
    "\n",
    "![](docker_directory.png)\n",
    "\n",
    "Y que se tiene el siguiente `Dockerfile`\n",
    "\n",
    "```\n",
    "FROM python:3.7\n",
    "WORKDIR /app\n",
    "COPY ./requirements.txt requirements.txt\n",
    "RUN pip install -r /requirements.txt\n",
    "COPY ./app /app\n",
    "CMD [\"python\", \"main.py\"]\n",
    "```\n",
    "\n",
    "También se puede tener este otro `Dockerfile`\n",
    "\n",
    "```\n",
    "FROM python:3.9\n",
    "WORKDIR /code\n",
    "COPY ./requirements.txt /code/requirements.txt\n",
    "RUN pip install --no-cache-dir --upgrade -r /code/requirements.txt\n",
    "COPY ./app /code/app\n",
    "CMD [\"uvicorn\", \"app.main:app\", \"--host\", \"0.0.0.0\", \"--port\", \"80\"]\n",
    "```\n",
    "\n",
    "**WARNING:** Tener cuidado con la importación relativa de módulos (carpetas) personalizados.\n",
    "\n",
    "### 3. Construcción incremental\n",
    "\n",
    "Estas líneas\n",
    "```\n",
    "RUN python -m pip install -U pip\n",
    "RUN pip install -r requirements.txt\n",
    "```\n",
    "\n",
    "Se pueden reemplazar por...\n",
    "```\n",
    "RUN python -m pip install -U pip && pip install -r requirements.txt\n",
    "```\n",
    "\n"
   ]
  },
  {
   "cell_type": "markdown",
   "metadata": {
    "collapsed": false,
    "jupyter": {
     "outputs_hidden": false
    },
    "pycharm": {
     "name": "#%% md\n"
    }
   },
   "source": [
    "\n"
   ]
  },
  {
   "cell_type": "markdown",
   "metadata": {
    "collapsed": false,
    "jupyter": {
     "outputs_hidden": false
    },
    "pycharm": {
     "name": "#%%\n"
    }
   },
   "source": [
    "## QUIZ EL SIGUIENTE LUNES 2 DE OCTUBRE SOBRE EL TEMA DE DOCKER. \n",
    "## COMO SIEMPRE, SERA ANTES DE EMPEZAR LA CLASE."
   ]
  },
  {
   "cell_type": "code",
   "execution_count": 2,
   "metadata": {
    "collapsed": false,
    "jupyter": {
     "outputs_hidden": false
    },
    "pycharm": {
     "name": "#%%\n"
    }
   },
   "outputs": [],
   "source": []
  }
 ],
 "metadata": {
  "kernelspec": {
   "display_name": "Python 3 (ipykernel)",
   "language": "python",
   "name": "python3"
  },
  "language_info": {
   "codemirror_mode": {
    "name": "ipython",
    "version": 3
   },
   "file_extension": ".py",
   "mimetype": "text/x-python",
   "name": "python",
   "nbconvert_exporter": "python",
   "pygments_lexer": "ipython3",
   "version": "3.11.5"
  }
 },
 "nbformat": 4,
 "nbformat_minor": 4
}
